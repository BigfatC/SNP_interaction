{
 "cells": [
  {
   "cell_type": "markdown",
   "metadata": {
    "collapsed": true
   },
   "source": [
    "##输入实例 Variation Pair\n",
    "输入的文件可以是位置文件，也可以是rs id文件。\n",
    "下面的是RS ID。"
   ]
  },
  {
   "cell_type": "code",
   "execution_count": 1,
   "metadata": {
    "collapsed": true
   },
   "outputs": [
    {
     "name": "stdout",
     "output_type": "stream",
     "text": [
      "rs429358    rs78515650\n\nrs429358    rs6090714\n\nrs429358    rs1151801\n\n"
     ]
    }
   ],
   "source": [
    "input = open(\"example_input.txt\")\n",
    "for oneline in input:\n",
    "    print(oneline)\n"
   ]
  },
  {
   "cell_type": "markdown",
   "metadata": {},
   "source": [
    "以下是位置文件。 "
   ]
  },
  {
   "cell_type": "code",
   "execution_count": 2,
   "metadata": {},
   "outputs": [
    {
     "name": "stdout",
     "output_type": "stream",
     "text": [
      "chr19   44908683    44908684    chr20  47697827    47697828\n\n"
     ]
    }
   ],
   "source": [
    "input = open(\"example_input2.txt\")\n",
    "for oneline in input:\n",
    "    print(oneline)"
   ]
  },
  {
   "cell_type": "markdown",
   "metadata": {},
   "source": [
    "###详细的函数说明\n",
    "```\n",
    "python3 main.py -help\n",
    "```\n",
    "usage: main.py [-h] [-f FILE] [-t {0,1}] afp\n",
    "\n",
    "Annotation of Variations.\n",
    "\n",
    "positional arguments:\n",
    "  afp                   Annotation File Path URL\n",
    "\n",
    "optional arguments:\n",
    "  -h, --help            show this help message and exit\n",
    "  -f FILE, --file FILE  Input File\n",
    "  -t {0,1}, --type {0,1}\n",
    "                        Type of Input File: 0 positional 1 id ;default 0\n"
   ]
  },
  {
   "cell_type": "markdown",
   "metadata": {},
   "source": [
    "###运行程序\n",
    "```\n",
    " python3 main.py -f example_input.txt -t 1 ./Annotation/\n",
    "```\n"
   ]
  },
  {
   "cell_type": "markdown",
   "metadata": {},
   "source": [
    "###结果展示\n",
    "```\n",
    "les Gene_nect.txt\n",
    "```\n",
    ">19:44908683-44908684   6:33832562-33832563\n",
    "ENSG00000130203 APOE    19      44905754        44909393        protein_coding  apolipoprotein E [Source:HGNC Symbol;Acc:HGNC:613\n",
    "ENSR00000320362 6       33832401        33833800        regulatory      CTCF binding site\n",
    "No-gene-correlation-results\n",
    "No-gene-correlation-results\n",
    ">19:44908683-44908684   20:47697827-47697828\n",
    "ENSG00000130203 APOE    19      44905754        44909393        protein_coding  apolipoprotein E [Source:HGNC Symbol;Acc:HGNC:613\n",
    "ENSG00000196562 SULF2   20      47656348        47786616        protein_coding  sulfatase 2 [Source:HGNC Symbol;Acc:HGNC:20392]\n",
    "The String Database: None Results\n",
    "GO_REGULATION_OF_CANONICAL_WNT_SIGNALING_PATHWAY        http://www.broadinstitute.org/gsea/msigdb/cards/GO_REGULATION_OF_CANONICA\n",
    "GO_SMALL_MOLECULE_METABOLIC_PROCESS     http://www.broadinstitute.org/gsea/msigdb/cards/GO_SMALL_MOLECULE_METABOLIC_PROCESS\n",
    "GO_REGENERATION http://www.broadinstitute.org/gsea/msigdb/cards/GO_REGENERATION\n",
    ">19:44908683-44908684   1:39961909-39961910\n",
    "ENSG00000130203 APOE    19      44905754        44909393        protein_coding  apolipoprotein E [Source:HGNC Symbol;Acc:HGNC:613\n",
    "ENSG00000168389 MFSD2A  1       39955112        39969968        protein_coding  major facilitator superfamily domain containing 2\n",
    "The String Database: None Results\n",
    "GO_ION_TRANSPORT        http://www.broadinstitute.org/gsea/msigdb/cards/GO_ION_TRANSPORT\n",
    "GO_VESICLE_MEDIATED_TRANSPORT   http://www.broadinstitute.org/gsea/msigdb/cards/GO_VESICLE_MEDIATED_TRANSPORT\n",
    "GO_ORGANIC_ACID_TRANSPORT       http://www.broadinstitute.org/gsea/msigdb/cards/GO_ORGANIC_ACID_TRANSPORT\n"
   ]
  },
  {
   "cell_type": "code",
   "execution_count": null,
   "metadata": {},
   "outputs": [],
   "source": []
  }
 ],
 "metadata": {
  "kernelspec": {
   "display_name": "Python 2",
   "language": "python",
   "name": "python2"
  },
  "language_info": {
   "codemirror_mode": {
    "name": "ipython",
    "version": 2
   },
   "file_extension": ".py",
   "mimetype": "text/x-python",
   "name": "python",
   "nbconvert_exporter": "python",
   "pygments_lexer": "ipython2",
   "version": "2.7.6"
  }
 },
 "nbformat": 4,
 "nbformat_minor": 0
}
